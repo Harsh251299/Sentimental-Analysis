{
 "cells": [
  {
   "cell_type": "markdown",
   "metadata": {},
   "source": [
    "# Data Class"
   ]
  },
  {
   "cell_type": "code",
   "execution_count": 1,
   "metadata": {},
   "outputs": [],
   "source": [
    "import random\n",
    "\n",
    "class Review:\n",
    "    def __init__(self, text, score):\n",
    "        self.text = text\n",
    "        self.score = score\n",
    "        self.sentiment = self.get_sentiment()\n",
    "        \n",
    "    def get_sentiment(self):\n",
    "        if self.score <= 2:\n",
    "            return \"NEGATIVE\"\n",
    "        elif self.score == 3:\n",
    "            return \"NEUTRAL\"\n",
    "        else: #Score of 4 or 5\n",
    "            return \"POSITIVE\"\n",
    "\n",
    "class ReviewContainer:\n",
    "    def __init__(self, reviews):\n",
    "        self.reviews = reviews\n",
    "        \n",
    "    def get_text(self):\n",
    "        return [x.text for x in self.reviews]\n",
    "    \n",
    "    def get_sentiment(self):\n",
    "        return [x.sentiment for x in self.reviews]\n",
    "        \n",
    "    def evenly_distribute(self):\n",
    "        negative = list(filter(lambda x: x.sentiment == \"NEGATIVE\", self.reviews))\n",
    "        positive = list(filter(lambda x: x.sentiment == \"POSITIVE\", self.reviews))\n",
    "        positive_shrunk = positive[:len(negative)]\n",
    "        self.reviews = negative + positive_shrunk\n",
    "        random.shuffle(self.reviews)"
   ]
  },
  {
   "cell_type": "markdown",
   "metadata": {},
   "source": [
    "# Loading the Data"
   ]
  },
  {
   "cell_type": "code",
   "execution_count": 2,
   "metadata": {},
   "outputs": [
    {
     "data": {
      "text/html": [
       "<div>\n",
       "<style scoped>\n",
       "    .dataframe tbody tr th:only-of-type {\n",
       "        vertical-align: middle;\n",
       "    }\n",
       "\n",
       "    .dataframe tbody tr th {\n",
       "        vertical-align: top;\n",
       "    }\n",
       "\n",
       "    .dataframe thead th {\n",
       "        text-align: right;\n",
       "    }\n",
       "</style>\n",
       "<table border=\"1\" class=\"dataframe\">\n",
       "  <thead>\n",
       "    <tr style=\"text-align: right;\">\n",
       "      <th></th>\n",
       "      <th>reviewerID</th>\n",
       "      <th>asin</th>\n",
       "      <th>reviewerName</th>\n",
       "      <th>helpful</th>\n",
       "      <th>reviewText</th>\n",
       "      <th>overall</th>\n",
       "      <th>summary</th>\n",
       "      <th>unixReviewTime</th>\n",
       "      <th>reviewTime</th>\n",
       "    </tr>\n",
       "  </thead>\n",
       "  <tbody>\n",
       "    <tr>\n",
       "      <th>0</th>\n",
       "      <td>A1F2H80A1ZNN1N</td>\n",
       "      <td>B00GDM3NQC</td>\n",
       "      <td>Connie Correll</td>\n",
       "      <td>[0, 0]</td>\n",
       "      <td>I bought both boxed sets, books 1-5.  Really a...</td>\n",
       "      <td>5</td>\n",
       "      <td>Can't stop reading!</td>\n",
       "      <td>1390435200</td>\n",
       "      <td>01 23, 2014</td>\n",
       "    </tr>\n",
       "    <tr>\n",
       "      <th>1</th>\n",
       "      <td>AI3DRTKCSK4KX</td>\n",
       "      <td>B00A5MREAM</td>\n",
       "      <td>Grandma</td>\n",
       "      <td>[0, 0]</td>\n",
       "      <td>I enjoyed this short book. But it was way way ...</td>\n",
       "      <td>3</td>\n",
       "      <td>A leaf on the wind of all hallows</td>\n",
       "      <td>1399593600</td>\n",
       "      <td>05 9, 2014</td>\n",
       "    </tr>\n",
       "    <tr>\n",
       "      <th>2</th>\n",
       "      <td>A3KAKFHY9DAC8A</td>\n",
       "      <td>0446547573</td>\n",
       "      <td>toobusyreading \"Inspired Kathy\"</td>\n",
       "      <td>[1, 1]</td>\n",
       "      <td>I love Nicholas Sparks. I&amp;#8217;ve read everyt...</td>\n",
       "      <td>4</td>\n",
       "      <td>Great writing from Nicholas Sparks.</td>\n",
       "      <td>1404518400</td>\n",
       "      <td>07 5, 2014</td>\n",
       "    </tr>\n",
       "    <tr>\n",
       "      <th>3</th>\n",
       "      <td>ATYBCYD6BIXVL</td>\n",
       "      <td>0955809215</td>\n",
       "      <td>Chrissie</td>\n",
       "      <td>[0, 0]</td>\n",
       "      <td>I really enjoyed this adventure and look forwa...</td>\n",
       "      <td>4</td>\n",
       "      <td>great</td>\n",
       "      <td>1389225600</td>\n",
       "      <td>01 9, 2014</td>\n",
       "    </tr>\n",
       "    <tr>\n",
       "      <th>4</th>\n",
       "      <td>A17K95SEU3J68U</td>\n",
       "      <td>0991500776</td>\n",
       "      <td>Sirde \"artist761\"</td>\n",
       "      <td>[0, 0]</td>\n",
       "      <td>It was a decent read.. typical story line. Not...</td>\n",
       "      <td>3</td>\n",
       "      <td>It was a decent read.. typical story line ...</td>\n",
       "      <td>1404864000</td>\n",
       "      <td>07 9, 2014</td>\n",
       "    </tr>\n",
       "    <tr>\n",
       "      <th>...</th>\n",
       "      <td>...</td>\n",
       "      <td>...</td>\n",
       "      <td>...</td>\n",
       "      <td>...</td>\n",
       "      <td>...</td>\n",
       "      <td>...</td>\n",
       "      <td>...</td>\n",
       "      <td>...</td>\n",
       "      <td>...</td>\n",
       "    </tr>\n",
       "    <tr>\n",
       "      <th>9995</th>\n",
       "      <td>A32FV8MF6KTRYE</td>\n",
       "      <td>0615676863</td>\n",
       "      <td>S.Wilson</td>\n",
       "      <td>[0, 0]</td>\n",
       "      <td>The whole series was great!  Melody is a fanta...</td>\n",
       "      <td>5</td>\n",
       "      <td>Great</td>\n",
       "      <td>1389830400</td>\n",
       "      <td>01 16, 2014</td>\n",
       "    </tr>\n",
       "    <tr>\n",
       "      <th>9996</th>\n",
       "      <td>A2IYZ41783TX4R</td>\n",
       "      <td>B00GG2DWO2</td>\n",
       "      <td>Lynn Demsky \"Lynn/MI\"</td>\n",
       "      <td>[0, 0]</td>\n",
       "      <td>I didn't thing that much of this book.  I am a...</td>\n",
       "      <td>3</td>\n",
       "      <td>an anchor might have helped....</td>\n",
       "      <td>1391731200</td>\n",
       "      <td>02 7, 2014</td>\n",
       "    </tr>\n",
       "    <tr>\n",
       "      <th>9997</th>\n",
       "      <td>A1GHQOXZME7VLL</td>\n",
       "      <td>1482012294</td>\n",
       "      <td>CABorgford</td>\n",
       "      <td>[0, 0]</td>\n",
       "      <td>It is an emotional TRIP to the past with Trip ...</td>\n",
       "      <td>5</td>\n",
       "      <td>Must Read Series - Timing is Everything</td>\n",
       "      <td>1388880000</td>\n",
       "      <td>01 5, 2014</td>\n",
       "    </tr>\n",
       "    <tr>\n",
       "      <th>9998</th>\n",
       "      <td>A37ZXVSFNM1UAZ</td>\n",
       "      <td>1481978063</td>\n",
       "      <td>V. Jones \"Phoenix Rising\"</td>\n",
       "      <td>[0, 0]</td>\n",
       "      <td>This definitely got under my veins whereby I h...</td>\n",
       "      <td>5</td>\n",
       "      <td>This story grew on me!</td>\n",
       "      <td>1392076800</td>\n",
       "      <td>02 11, 2014</td>\n",
       "    </tr>\n",
       "    <tr>\n",
       "      <th>9999</th>\n",
       "      <td>A1EZD7IJOOAF6S</td>\n",
       "      <td>0956998569</td>\n",
       "      <td>Amazon Customer</td>\n",
       "      <td>[1, 1]</td>\n",
       "      <td>Highly recommend this entire trilogy. It is ve...</td>\n",
       "      <td>4</td>\n",
       "      <td>truly enjoyed</td>\n",
       "      <td>1402358400</td>\n",
       "      <td>06 10, 2014</td>\n",
       "    </tr>\n",
       "  </tbody>\n",
       "</table>\n",
       "<p>10000 rows × 9 columns</p>\n",
       "</div>"
      ],
      "text/plain": [
       "          reviewerID        asin                     reviewerName helpful  \\\n",
       "0     A1F2H80A1ZNN1N  B00GDM3NQC                   Connie Correll  [0, 0]   \n",
       "1      AI3DRTKCSK4KX  B00A5MREAM                          Grandma  [0, 0]   \n",
       "2     A3KAKFHY9DAC8A  0446547573  toobusyreading \"Inspired Kathy\"  [1, 1]   \n",
       "3      ATYBCYD6BIXVL  0955809215                         Chrissie  [0, 0]   \n",
       "4     A17K95SEU3J68U  0991500776                Sirde \"artist761\"  [0, 0]   \n",
       "...              ...         ...                              ...     ...   \n",
       "9995  A32FV8MF6KTRYE  0615676863                         S.Wilson  [0, 0]   \n",
       "9996  A2IYZ41783TX4R  B00GG2DWO2            Lynn Demsky \"Lynn/MI\"  [0, 0]   \n",
       "9997  A1GHQOXZME7VLL  1482012294                       CABorgford  [0, 0]   \n",
       "9998  A37ZXVSFNM1UAZ  1481978063        V. Jones \"Phoenix Rising\"  [0, 0]   \n",
       "9999  A1EZD7IJOOAF6S  0956998569                  Amazon Customer  [1, 1]   \n",
       "\n",
       "                                             reviewText  overall  \\\n",
       "0     I bought both boxed sets, books 1-5.  Really a...        5   \n",
       "1     I enjoyed this short book. But it was way way ...        3   \n",
       "2     I love Nicholas Sparks. I&#8217;ve read everyt...        4   \n",
       "3     I really enjoyed this adventure and look forwa...        4   \n",
       "4     It was a decent read.. typical story line. Not...        3   \n",
       "...                                                 ...      ...   \n",
       "9995  The whole series was great!  Melody is a fanta...        5   \n",
       "9996  I didn't thing that much of this book.  I am a...        3   \n",
       "9997  It is an emotional TRIP to the past with Trip ...        5   \n",
       "9998  This definitely got under my veins whereby I h...        5   \n",
       "9999  Highly recommend this entire trilogy. It is ve...        4   \n",
       "\n",
       "                                            summary  unixReviewTime  \\\n",
       "0                               Can't stop reading!      1390435200   \n",
       "1                 A leaf on the wind of all hallows      1399593600   \n",
       "2               Great writing from Nicholas Sparks.      1404518400   \n",
       "3                                             great      1389225600   \n",
       "4     It was a decent read.. typical story line ...      1404864000   \n",
       "...                                             ...             ...   \n",
       "9995                                          Great      1389830400   \n",
       "9996                an anchor might have helped....      1391731200   \n",
       "9997        Must Read Series - Timing is Everything      1388880000   \n",
       "9998                         This story grew on me!      1392076800   \n",
       "9999                                  truly enjoyed      1402358400   \n",
       "\n",
       "       reviewTime  \n",
       "0     01 23, 2014  \n",
       "1      05 9, 2014  \n",
       "2      07 5, 2014  \n",
       "3      01 9, 2014  \n",
       "4      07 9, 2014  \n",
       "...           ...  \n",
       "9995  01 16, 2014  \n",
       "9996   02 7, 2014  \n",
       "9997   01 5, 2014  \n",
       "9998  02 11, 2014  \n",
       "9999  06 10, 2014  \n",
       "\n",
       "[10000 rows x 9 columns]"
      ]
     },
     "execution_count": 2,
     "metadata": {},
     "output_type": "execute_result"
    }
   ],
   "source": [
    "import pandas as pd\n",
    "df = pd.read_json('Books_small_10000.json',lines=True)\n",
    "df"
   ]
  },
  {
   "cell_type": "markdown",
   "metadata": {},
   "source": [
    "# Simplifying our data"
   ]
  },
  {
   "cell_type": "code",
   "execution_count": 3,
   "metadata": {
    "scrolled": true
   },
   "outputs": [
    {
     "name": "stdout",
     "output_type": "stream",
     "text": [
      "Text:  I really enjoyed this adventure and look forward to reading more of Robert Spire. I especially liked all the info on global warming. You did a good job on the research.\n",
      "Score:  4\n",
      "Sentiment:  POSITIVE\n"
     ]
    }
   ],
   "source": [
    "review = [Review(x, y) for x, y in zip(df['reviewText'], df['overall'])]\n",
    "print('Text: ',review[3].text)\n",
    "print('Score: ' ,review[3].score)\n",
    "print('Sentiment: ' ,review[3].sentiment)"
   ]
  },
  {
   "cell_type": "markdown",
   "metadata": {},
   "source": [
    "# Preparing the Data"
   ]
  },
  {
   "cell_type": "code",
   "execution_count": 27,
   "metadata": {},
   "outputs": [],
   "source": [
    "from sklearn.model_selection import train_test_split\n",
    "train,test = train_test_split(review,test_size=0.25,random_state=42)\n",
    "\n",
    "train_container = ReviewContainer(train)\n",
    "\n",
    "test_container = ReviewContainer(test)"
   ]
  },
  {
   "cell_type": "code",
   "execution_count": 32,
   "metadata": {},
   "outputs": [
    {
     "name": "stdout",
     "output_type": "stream",
     "text": [
      "486\n",
      "486\n"
     ]
    }
   ],
   "source": [
    "train_container.evenly_distribute()\n",
    "train_x = train_container.get_text()\n",
    "train_y = train_container.get_sentiment()\n",
    "\n",
    "test_container.evenly_distribute()\n",
    "test_x = test_container.get_text()\n",
    "test_y = test_container.get_sentiment()\n",
    "\n",
    "print(train_y.count(\"POSITIVE\"))\n",
    "print(train_y.count(\"NEGATIVE\"))"
   ]
  },
  {
   "cell_type": "markdown",
   "metadata": {},
   "source": [
    "# Vectorization"
   ]
  },
  {
   "cell_type": "code",
   "execution_count": 6,
   "metadata": {},
   "outputs": [
    {
     "name": "stdout",
     "output_type": "stream",
     "text": [
      "didn't hold my interest .  There were some good parts but as a whole I didn't like it.  I know there are some really valuable things in the book  though but not enough I guess .\n",
      "[[0. 0. 0. ... 0. 0. 0.]]\n"
     ]
    }
   ],
   "source": [
    "from sklearn.feature_extraction.text import CountVectorizer, TfidfVectorizer\n",
    "\n",
    "# This book is great\n",
    "# This book was so bad\n",
    "\n",
    "vectorizer = TfidfVectorizer()\n",
    "train_x_vectors = vectorizer.fit_transform(train_x)\n",
    "\n",
    "test_x_vectors = vectorizer.transform(test_x)\n",
    "\n",
    "print(train_x[3])\n",
    "print(train_x_vectors[3].toarray())"
   ]
  },
  {
   "cell_type": "markdown",
   "metadata": {},
   "source": [
    "## Classification"
   ]
  },
  {
   "cell_type": "markdown",
   "metadata": {},
   "source": [
    "### Linear SVM"
   ]
  },
  {
   "cell_type": "code",
   "execution_count": 7,
   "metadata": {},
   "outputs": [
    {
     "name": "stdout",
     "output_type": "stream",
     "text": [
      "I found it very hard to connect with the author throughout this book.  The story came across to me as insincere, and more about selling books than sharing a belief or story.  Like other reviewers, I found Eben to be arrogant.  My wife reads a lot of books like this, and comparing notes afterwards she felt the same way.  The ending also seemed forced or contrived for dramatic effect.\n"
     ]
    },
    {
     "data": {
      "text/plain": [
       "array(['NEGATIVE'], dtype='<U8')"
      ]
     },
     "execution_count": 7,
     "metadata": {},
     "output_type": "execute_result"
    }
   ],
   "source": [
    "from sklearn import svm\n",
    "\n",
    "clf_svm = svm.SVC(kernel='linear')\n",
    "\n",
    "clf_svm.fit(train_x_vectors, train_y)\n",
    "\n",
    "print(test_x[3])\n",
    "clf_svm.predict(test_x_vectors[3])"
   ]
  },
  {
   "cell_type": "markdown",
   "metadata": {},
   "source": [
    "### Decision Tree"
   ]
  },
  {
   "cell_type": "code",
   "execution_count": 8,
   "metadata": {},
   "outputs": [
    {
     "data": {
      "text/plain": [
       "array(['POSITIVE'], dtype='<U8')"
      ]
     },
     "execution_count": 8,
     "metadata": {},
     "output_type": "execute_result"
    }
   ],
   "source": [
    "from sklearn.tree import DecisionTreeClassifier\n",
    "\n",
    "clf_dec = DecisionTreeClassifier()\n",
    "clf_dec.fit(train_x_vectors, train_y)\n",
    "\n",
    "clf_dec.predict(test_x_vectors[0])"
   ]
  },
  {
   "cell_type": "markdown",
   "metadata": {},
   "source": [
    "### Naive Bayes"
   ]
  },
  {
   "cell_type": "code",
   "execution_count": 9,
   "metadata": {},
   "outputs": [
    {
     "data": {
      "text/plain": [
       "array(['POSITIVE'], dtype='<U8')"
      ]
     },
     "execution_count": 9,
     "metadata": {},
     "output_type": "execute_result"
    }
   ],
   "source": [
    "from sklearn.naive_bayes import GaussianNB\n",
    "\n",
    "clf_gnb = GaussianNB()\n",
    "clf_gnb.fit(train_x_vectors.toarray(), train_y)\n",
    "\n",
    "clf_gnb.predict(test_x_vectors[0].toarray())"
   ]
  },
  {
   "cell_type": "markdown",
   "metadata": {},
   "source": [
    "### Score of each classifier"
   ]
  },
  {
   "cell_type": "code",
   "execution_count": 10,
   "metadata": {},
   "outputs": [
    {
     "name": "stdout",
     "output_type": "stream",
     "text": [
      "0.8449367088607594\n",
      "0.6677215189873418\n",
      "0.6424050632911392\n"
     ]
    }
   ],
   "source": [
    "print(clf_svm.score(test_x_vectors, test_y))\n",
    "print(clf_dec.score(test_x_vectors, test_y))\n",
    "print(clf_gnb.score(test_x_vectors.toarray(), test_y))"
   ]
  },
  {
   "cell_type": "markdown",
   "metadata": {},
   "source": [
    "### F1 score of SVM"
   ]
  },
  {
   "cell_type": "code",
   "execution_count": 11,
   "metadata": {},
   "outputs": [
    {
     "data": {
      "text/plain": [
       "array([0.84444444, 0.84542587])"
      ]
     },
     "execution_count": 11,
     "metadata": {},
     "output_type": "execute_result"
    }
   ],
   "source": [
    "from sklearn.metrics import f1_score\n",
    "\n",
    "f1_score(test_y, clf_svm.predict(test_x_vectors), average=None, labels=[\"POSITIVE\", \"NEGATIVE\"])"
   ]
  },
  {
   "cell_type": "markdown",
   "metadata": {},
   "source": [
    "# Testing the Model"
   ]
  },
  {
   "cell_type": "code",
   "execution_count": 24,
   "metadata": {},
   "outputs": [
    {
     "data": {
      "text/plain": [
       "array(['NEGATIVE', 'POSITIVE', 'NEGATIVE'], dtype='<U8')"
      ]
     },
     "execution_count": 24,
     "metadata": {},
     "output_type": "execute_result"
    }
   ],
   "source": [
    "test_set = ['do not buy', \"i would definetly recommend\", 'worst book EVER!']\n",
    "new_test = vectorizer.transform(test_set)\n",
    "\n",
    "clf_svm.predict(new_test)"
   ]
  },
  {
   "cell_type": "markdown",
   "metadata": {},
   "source": [
    "# Visualization"
   ]
  },
  {
   "cell_type": "code",
   "execution_count": 22,
   "metadata": {},
   "outputs": [
    {
     "data": {
      "image/png": "[encoded data removed]",
      "text/plain": [
       "<Figure size 432x288 with 2 Axes>"
      ]
     },
     "metadata": {},
     "output_type": "display_data"
    }
   ],
   "source": [
    "import matplotlib.pyplot as plt\n",
    "from collections import Counter\n",
    "\n",
    "x=list(clf_svm.predict(test_x_vectors))\n",
    "\n",
    "a1=(list(Counter(x).keys())) # unique values\n",
    "a2=(list(Counter(x).values())) # counts the elements' frequency\n",
    "\n",
    "plt.subplot(1,2,1)\n",
    "plt.title(\"Predicted\")\n",
    "plt.pie(a2,labels=a1,autopct='%1.1f%%',colors=['c','lime'])\n",
    "\n",
    "b1=(list(Counter(test_y).keys())) \n",
    "b2=(list(Counter(test_y).values())) \n",
    "\n",
    "plt.subplot(1,2,2)\n",
    "plt.title(\"Actual\")\n",
    "plt.pie(b2,labels=b1,autopct='%1.1f%%',colors=['c','lime'])\n",
    "\n",
    "plt.show()"
   ]
  },
  {
   "cell_type": "code",
   "execution_count": null,
   "metadata": {},
   "outputs": [],
   "source": []
  }
 ],
 "metadata": {
  "kernelspec": {
   "display_name": "Python 3",
   "language": "python",
   "name": "python3"
  },
  "language_info": {
   "codemirror_mode": {
    "name": "ipython",
    "version": 3
   },
   "file_extension": ".py",
   "mimetype": "text/x-python",
   "name": "python",
   "nbconvert_exporter": "python",
   "pygments_lexer": "ipython3",
   "version": "3.7.6"
  }
 },
 "nbformat": 4,
 "nbformat_minor": 4
}
